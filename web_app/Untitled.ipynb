{
 "cells": [
  {
   "cell_type": "code",
   "execution_count": 2,
   "id": "f734b6a1-ec5b-4918-bf8f-a995a12ccd0b",
   "metadata": {},
   "outputs": [],
   "source": [
    "from simplecrypt import encrypt, decrypt\n",
    "import codecs"
   ]
  },
  {
   "cell_type": "code",
   "execution_count": 3,
   "id": "5d1955c5-556b-42ce-b893-f8b04deb68f7",
   "metadata": {},
   "outputs": [
    {
     "name": "stdout",
     "output_type": "stream",
     "text": [
      "sachin secret\n"
     ]
    }
   ],
   "source": [
    "text = 'sachin'\n",
    "secret_key = 'secret'\n",
    "cipher_text = encrypt(secret_key, text)\n",
    "print(text,secret_key)"
   ]
  },
  {
   "cell_type": "code",
   "execution_count": 10,
   "id": "bb195caa-bfab-4e8a-84a7-d5688a3cf607",
   "metadata": {},
   "outputs": [
    {
     "name": "stdout",
     "output_type": "stream",
     "text": [
      "decryped b'sachin'\n"
     ]
    }
   ],
   "source": [
    "print('decryped',decrypt(secret_key, cipher_text))"
   ]
  },
  {
   "cell_type": "code",
   "execution_count": 11,
   "id": "125a457b-4776-4396-b33a-340c363572d6",
   "metadata": {},
   "outputs": [
    {
     "data": {
      "text/plain": [
       "b\"sc\\x00\\x02G'\\xe6\\xac@p\\x12\\xa0\\xb6\\xf0N~af\\x05\\xd7\\xfa\\xcbv]\\xee\\x9d\\x85c\\x18\\xf8\\xcdN Z\\x15\\x95\\x9f\\xa5L\\x87!\\xefe\\x14\\xd7\\x80.\\xf6B c|\\t\\xec4\\x02go\\xbc\\x8cAb\\xe3\\xe2J\\x83g\\xab\\xa7\\x14\\xb6\\xb1\\xd5\\xab\""
      ]
     },
     "execution_count": 11,
     "metadata": {},
     "output_type": "execute_result"
    }
   ],
   "source": [
    "cipher_text"
   ]
  },
  {
   "cell_type": "code",
   "execution_count": 32,
   "id": "048c3f9a-0b5e-4d80-892e-52ed7b358b1a",
   "metadata": {},
   "outputs": [],
   "source": [
    "cypher_text_new = str(b'sc\\x00\\x02\\xb9\\xd4\\xb2 \\x1bxb\\xccP\\x1b@\\xdeo\\x97\\x1f\\x91\\x15\\xb6\\xfd\\xfc\\x82T\\xfc\\xe5\\x84\\xa1\\xd2\\xa0\\x7f`\\xd4\\x9fc\\x16\\x8a%\\xb4d\\xb9ap0\\x87\\x12\\x80\\x98?\\xaf+\\xb2\\xc0\\xd5\\xf9\\x97\\x11\\x84_\\xb4!\\x06\\x85T\\x19\\xfe2\\xa2xEr!')"
   ]
  },
  {
   "cell_type": "code",
   "execution_count": 33,
   "id": "8095b994-32ed-410d-9741-9b3755186c15",
   "metadata": {},
   "outputs": [],
   "source": [
    "cypher_text_new =cypher_text_new[2:-2]"
   ]
  },
  {
   "cell_type": "code",
   "execution_count": 40,
   "id": "2550941d-8a64-4237-a58d-a7ad3ccee535",
   "metadata": {},
   "outputs": [
    {
     "data": {
      "text/plain": [
       "b'sc\\\\x00\\\\x02\\\\xb9\\\\xd4\\\\xb2 \\\\x1bxb\\\\xccP\\\\x1b@\\\\xdeo\\\\x97\\\\x1f\\\\x91\\\\x15\\\\xb6\\\\xfd\\\\xfc\\\\x82T\\\\xfc\\\\xe5\\\\x84\\\\xa1\\\\xd2\\\\xa0\\\\x7f`\\\\xd4\\\\x9fc\\\\x16\\\\x8a%\\\\xb4d\\\\xb9ap0\\\\x87\\\\x12\\\\x80\\\\x98?\\\\xaf+\\\\xb2\\\\xc0\\\\xd5\\\\xf9\\\\x97\\\\x11\\\\x84_\\\\xb4!\\\\x06\\\\x85T\\\\x19\\\\xfe2\\\\xa2xEr'"
      ]
     },
     "execution_count": 40,
     "metadata": {},
     "output_type": "execute_result"
    }
   ],
   "source": [
    "c = cypher_text_new.encode()\n",
    "c"
   ]
  },
  {
   "cell_type": "code",
   "execution_count": 35,
   "id": "8b91b9f1-9bd8-411d-932d-12225c947405",
   "metadata": {},
   "outputs": [
    {
     "ename": "DecryptionException",
     "evalue": "Data to decrypt must be bytes; you cannot use a string because no string encoding will accept all possible characters.",
     "output_type": "error",
     "traceback": [
      "\u001b[1;31m---------------------------------------------------------------------------\u001b[0m",
      "\u001b[1;31mDecryptionException\u001b[0m                       Traceback (most recent call last)",
      "\u001b[1;32m~\\AppData\\Local\\Temp/ipykernel_16400/57162717.py\u001b[0m in \u001b[0;36m<module>\u001b[1;34m\u001b[0m\n\u001b[1;32m----> 1\u001b[1;33m \u001b[0mprint\u001b[0m\u001b[1;33m(\u001b[0m\u001b[1;34m'decryped'\u001b[0m\u001b[1;33m,\u001b[0m\u001b[0mdecrypt\u001b[0m\u001b[1;33m(\u001b[0m\u001b[0msecret_key\u001b[0m\u001b[1;33m,\u001b[0m \u001b[0mcypher_text_new\u001b[0m\u001b[1;33m)\u001b[0m\u001b[1;33m)\u001b[0m\u001b[1;33m\u001b[0m\u001b[1;33m\u001b[0m\u001b[0m\n\u001b[0m",
      "\u001b[1;32mc:\\users\\sachi\\.conda\\envs\\cardiotters\\lib\\site-packages\\simplecrypt\\__init__.py\u001b[0m in \u001b[0;36mdecrypt\u001b[1;34m(password, data)\u001b[0m\n\u001b[0;32m     61\u001b[0m     \u001b[0mstring\u001b[0m \u001b[0myou\u001b[0m \u001b[0mcan\u001b[0m \u001b[0mre\u001b[0m\u001b[1;33m-\u001b[0m\u001b[0mcreate\u001b[0m \u001b[0mthat\u001b[0m \u001b[0musing\u001b[0m\u001b[0;31m \u001b[0m\u001b[0;31m`\u001b[0m\u001b[0mresult\u001b[0m\u001b[1;33m.\u001b[0m\u001b[0mdecode\u001b[0m\u001b[1;33m(\u001b[0m\u001b[1;34m'utf8'\u001b[0m\u001b[1;33m)\u001b[0m\u001b[0;31m`\u001b[0m\u001b[1;33m.\u001b[0m\u001b[1;33m\u001b[0m\u001b[1;33m\u001b[0m\u001b[0m\n\u001b[0;32m     62\u001b[0m     '''\n\u001b[1;32m---> 63\u001b[1;33m     \u001b[0m_assert_not_unicode\u001b[0m\u001b[1;33m(\u001b[0m\u001b[0mdata\u001b[0m\u001b[1;33m)\u001b[0m\u001b[1;33m\u001b[0m\u001b[1;33m\u001b[0m\u001b[0m\n\u001b[0m\u001b[0;32m     64\u001b[0m     \u001b[0m_assert_header_prefix\u001b[0m\u001b[1;33m(\u001b[0m\u001b[0mdata\u001b[0m\u001b[1;33m)\u001b[0m\u001b[1;33m\u001b[0m\u001b[1;33m\u001b[0m\u001b[0m\n\u001b[0;32m     65\u001b[0m     \u001b[0mversion\u001b[0m \u001b[1;33m=\u001b[0m \u001b[0m_assert_header_version\u001b[0m\u001b[1;33m(\u001b[0m\u001b[0mdata\u001b[0m\u001b[1;33m)\u001b[0m\u001b[1;33m\u001b[0m\u001b[1;33m\u001b[0m\u001b[0m\n",
      "\u001b[1;32mc:\\users\\sachi\\.conda\\envs\\cardiotters\\lib\\site-packages\\simplecrypt\\__init__.py\u001b[0m in \u001b[0;36m_assert_not_unicode\u001b[1;34m(data)\u001b[0m\n\u001b[0;32m     84\u001b[0m     \u001b[0mu_type\u001b[0m \u001b[1;33m=\u001b[0m \u001b[0mtype\u001b[0m\u001b[1;33m(\u001b[0m\u001b[1;34mb''\u001b[0m\u001b[1;33m.\u001b[0m\u001b[0mdecode\u001b[0m\u001b[1;33m(\u001b[0m\u001b[1;34m'utf8'\u001b[0m\u001b[1;33m)\u001b[0m\u001b[1;33m)\u001b[0m\u001b[1;33m\u001b[0m\u001b[1;33m\u001b[0m\u001b[0m\n\u001b[0;32m     85\u001b[0m     \u001b[1;32mif\u001b[0m \u001b[0misinstance\u001b[0m\u001b[1;33m(\u001b[0m\u001b[0mdata\u001b[0m\u001b[1;33m,\u001b[0m \u001b[0mu_type\u001b[0m\u001b[1;33m)\u001b[0m\u001b[1;33m:\u001b[0m\u001b[1;33m\u001b[0m\u001b[1;33m\u001b[0m\u001b[0m\n\u001b[1;32m---> 86\u001b[1;33m         raise DecryptionException('Data to decrypt must be bytes; ' +\n\u001b[0m\u001b[0;32m     87\u001b[0m         'you cannot use a string because no string encoding will accept all possible characters.')\n\u001b[0;32m     88\u001b[0m \u001b[1;33m\u001b[0m\u001b[0m\n",
      "\u001b[1;31mDecryptionException\u001b[0m: Data to decrypt must be bytes; you cannot use a string because no string encoding will accept all possible characters."
     ]
    }
   ],
   "source": [
    "print('decryped',decrypt(secret_key, cypher_text_new))"
   ]
  },
  {
   "cell_type": "code",
   "execution_count": null,
   "id": "d83016ab-7b72-4994-bf63-2e9712fe5ba7",
   "metadata": {},
   "outputs": [],
   "source": []
  }
 ],
 "metadata": {
  "kernelspec": {
   "display_name": "Python 3 (ipykernel)",
   "language": "python",
   "name": "python3"
  },
  "language_info": {
   "codemirror_mode": {
    "name": "ipython",
    "version": 3
   },
   "file_extension": ".py",
   "mimetype": "text/x-python",
   "name": "python",
   "nbconvert_exporter": "python",
   "pygments_lexer": "ipython3",
   "version": "3.9.5"
  }
 },
 "nbformat": 4,
 "nbformat_minor": 5
}
